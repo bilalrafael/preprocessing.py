{
  "nbformat": 4,
  "nbformat_minor": 0,
  "metadata": {
    "colab": {
      "provenance": [],
      "authorship_tag": "ABX9TyPulUYdoEtpcSfzzMtS1wg7",
      "include_colab_link": true
    },
    "kernelspec": {
      "name": "python3",
      "display_name": "Python 3"
    },
    "language_info": {
      "name": "python"
    }
  },
  "cells": [
    {
      "cell_type": "markdown",
      "metadata": {
        "id": "view-in-github",
        "colab_type": "text"
      },
      "source": [
        "<a href=\"https://colab.research.google.com/github/bilalrafael/preprocessing.py/blob/main/preprocessing.ipynb\" target=\"_parent\"><img src=\"https://colab.research.google.com/assets/colab-badge.svg\" alt=\"Open In Colab\"/></a>"
      ]
    },
    {
      "cell_type": "markdown",
      "source": [
        "pertama import library terlebih dulu"
      ],
      "metadata": {
        "id": "Y0wjyGj3i7Yc"
      }
    },
    {
      "cell_type": "code",
      "execution_count": 1,
      "metadata": {
        "id": "KSBZVK8VhNfO"
      },
      "outputs": [],
      "source": [
        "import numpy as np\n",
        "import matplotlib.pyplot as plt\n",
        "import pandas as pd"
      ]
    },
    {
      "cell_type": "markdown",
      "source": [
        "setelah selesai lakukan pembacaan file csv"
      ],
      "metadata": {
        "id": "MQJsOdzLjrJM"
      }
    },
    {
      "cell_type": "code",
      "source": [
        "# membaca Data\n",
        "dataset = pd.read_csv('gunung.csv')\n",
        "# Lokasi Data Set, x = attribute , y = label\n",
        "x = dataset.iloc[: , :-1].values\n",
        "y = dataset.iloc[: , -1].values"
      ],
      "metadata": {
        "id": "MC7rb28BhjFc"
      },
      "execution_count": 3,
      "outputs": []
    },
    {
      "cell_type": "markdown",
      "source": [
        "lalu print untuk membaca nilai y dan x"
      ],
      "metadata": {
        "id": "BEk7eWw7kAXh"
      }
    },
    {
      "cell_type": "code",
      "source": [
        "print(y)"
      ],
      "metadata": {
        "colab": {
          "base_uri": "https://localhost:8080/"
        },
        "id": "6offUfyRStaF",
        "outputId": "7cbd89f9-b972-4490-ca3a-260fedf035a8"
      },
      "execution_count": 4,
      "outputs": [
        {
          "output_type": "stream",
          "name": "stdout",
          "text": [
            "['Ya' 'Ya' 'Ya' 'Tidak' 'Tidak' 'Tidak' 'Tidak' 'Ya' 'Ya' 'Ya' 'Ya' 'Ya'\n",
            " 'Ya' 'Ya' 'Tidak' 'Tidak' 'Tidak' 'Ya' 'Tidak' 'Ya']\n"
          ]
        }
      ]
    },
    {
      "cell_type": "code",
      "source": [
        "print(x[:5])"
      ],
      "metadata": {
        "colab": {
          "base_uri": "https://localhost:8080/"
        },
        "id": "fAXvs8Mhh_Kp",
        "outputId": "699cc6d7-467e-4cfa-adae-8252d3c61e4f"
      },
      "execution_count": 5,
      "outputs": [
        {
          "output_type": "stream",
          "name": "stdout",
          "text": [
            "[['Gunung Kerinci' 'Jambi' 3805 'Stratovolcano']\n",
            " ['Gunung Semeru' 'Jawa Timur' 3676 'Stratovolcano']\n",
            " ['Gunung Rinjani' 'Nusa Tenggara Barat' 3726 'Stratovolcano']\n",
            " ['Gunung Bukit Raya' 'Kalimantan Barat' 2278 'Non-Vulkanik']\n",
            " ['Gunung Latimojong' 'Sulawesi Selatan' 3478 'Non-Vulkanik']]\n"
          ]
        }
      ]
    },
    {
      "cell_type": "markdown",
      "source": [
        "Langkah ini menangani missing values dengan SimpleImputer menggunakan strategy yang keluar paling banyak dan rata rata"
      ],
      "metadata": {
        "id": "i38iPyvhlMqw"
      }
    },
    {
      "cell_type": "code",
      "source": [
        "from sklearn.impute import SimpleImputer\n",
        "imputer_num = SimpleImputer(missing_values=np.nan, strategy='mean')\n",
        "x[:, 2:3] = imputer_num.fit_transform(x[:, 2:3])\n",
        "imputer_cat = SimpleImputer(missing_values=np.nan, strategy='most_frequent')\n",
        "x[:, [0, 1, 3]] = imputer_cat.fit_transform(x[:, [0, 1, 3]])"
      ],
      "metadata": {
        "id": "zZMGelbhiPrF"
      },
      "execution_count": 6,
      "outputs": []
    },
    {
      "cell_type": "markdown",
      "source": [
        "lalu print"
      ],
      "metadata": {
        "id": "30OMQBT4TW73"
      }
    },
    {
      "cell_type": "code",
      "source": [
        "print (x[:3])"
      ],
      "metadata": {
        "id": "Av4z8rPbjkyT",
        "outputId": "315ada20-d2d5-485f-8ea1-b4fa84d64c5e",
        "colab": {
          "base_uri": "https://localhost:8080/"
        }
      },
      "execution_count": 7,
      "outputs": [
        {
          "output_type": "stream",
          "name": "stdout",
          "text": [
            "[['Gunung Kerinci' 'Jambi' 3805.0 'Stratovolcano']\n",
            " ['Gunung Semeru' 'Jawa Timur' 3676.0 'Stratovolcano']\n",
            " ['Gunung Rinjani' 'Nusa Tenggara Barat' 3726.0 'Stratovolcano']]\n"
          ]
        }
      ]
    },
    {
      "cell_type": "markdown",
      "source": [
        "Langkah ini menerapkan One-Hot Encoding pada kolom indeks 0 untuk mengonversi data kategori menjadi bentuk biner (0 dan 1), sementara kolom lainnya tetap. ColumnTransformer digunakan agar hanya kolom tertentu yang diubah tanpa mempengaruhi data lainnya."
      ],
      "metadata": {
        "id": "fmA3Uoe3n2lM"
      }
    },
    {
      "cell_type": "code",
      "source": [
        "from sklearn.compose import ColumnTransformer\n",
        "from sklearn.preprocessing import OneHotEncoder\n",
        "x = np.array(x)\n",
        "\n",
        "ct = ColumnTransformer(transformers=[('encoder', OneHotEncoder(sparse_output=False), [0])], remainder='passthrough')\n",
        "\n",
        "x = ct.fit_transform(x)\n"
      ],
      "metadata": {
        "id": "jnnAr6Arj81S"
      },
      "execution_count": 8,
      "outputs": []
    },
    {
      "cell_type": "markdown",
      "source": [
        "lalu print"
      ],
      "metadata": {
        "id": "1O3DprQfn4UM"
      }
    },
    {
      "cell_type": "code",
      "source": [
        "print(x[:3])"
      ],
      "metadata": {
        "colab": {
          "base_uri": "https://localhost:8080/"
        },
        "id": "ov28PuMzUuXE",
        "outputId": "8289071f-328f-4e0e-ed13-50341c4982d8"
      },
      "execution_count": 9,
      "outputs": [
        {
          "output_type": "stream",
          "name": "stdout",
          "text": [
            "[[0.0 0.0 0.0 0.0 0.0 0.0 1.0 0.0 0.0 0.0 0.0 0.0 0.0 0.0 0.0 0.0 0.0 0.0\n",
            "  0.0 'Jambi' 3805.0 'Stratovolcano']\n",
            " [0.0 0.0 0.0 0.0 0.0 0.0 0.0 0.0 0.0 0.0 0.0 0.0 0.0 0.0 1.0 0.0 0.0 0.0\n",
            "  0.0 'Jawa Timur' 3676.0 'Stratovolcano']\n",
            " [0.0 0.0 0.0 0.0 0.0 0.0 0.0 0.0 0.0 0.0 0.0 0.0 0.0 1.0 0.0 0.0 0.0 0.0\n",
            "  0.0 'Nusa Tenggara Barat' 3726.0 'Stratovolcano']]\n"
          ]
        }
      ]
    },
    {
      "cell_type": "markdown",
      "source": [
        "Label Encoding untuk mengubah data kategori dalam y menjadi angka agar bisa digunakan dalam model machine learning."
      ],
      "metadata": {
        "id": "8xmy3eGmpKhD"
      }
    },
    {
      "cell_type": "code",
      "source": [
        "from sklearn.preprocessing import LabelEncoder\n",
        "le = LabelEncoder()\n",
        "y = le.fit_transform(y)"
      ],
      "metadata": {
        "id": "uyqeGDlLWLyX"
      },
      "execution_count": 10,
      "outputs": []
    },
    {
      "cell_type": "code",
      "source": [
        "print(y)"
      ],
      "metadata": {
        "colab": {
          "base_uri": "https://localhost:8080/"
        },
        "id": "c7DMonjpWaT_",
        "outputId": "17fe442d-f6b9-4316-9f6d-ca3ea86b03b2"
      },
      "execution_count": 11,
      "outputs": [
        {
          "output_type": "stream",
          "name": "stdout",
          "text": [
            "[1 1 1 0 0 0 0 1 1 1 1 1 1 1 0 0 0 1 0 1]\n"
          ]
        }
      ]
    },
    {
      "cell_type": "markdown",
      "source": [
        "selanjutnya membagi data menjadi 80% latih dan 20% uji untuk melatih dan menguji model. random_state=1 memastikan hasil pembagian tetap konsisten."
      ],
      "metadata": {
        "id": "xZUuQYAOpptf"
      }
    },
    {
      "cell_type": "code",
      "source": [
        "from sklearn.model_selection import train_test_split\n",
        "x_train, x_test, y_train, y_test = train_test_split(x, y, test_size = 0.2, random_state = 1)"
      ],
      "metadata": {
        "id": "rWns3OuEWh7O"
      },
      "execution_count": 12,
      "outputs": []
    },
    {
      "cell_type": "markdown",
      "source": [
        "print(y_train) digunakan untuk menampilkan data label (target) yang digunakan untuk pelatihan setelah pembagian dataset."
      ],
      "metadata": {
        "id": "fEwS-lXuqAwx"
      }
    },
    {
      "cell_type": "code",
      "source": [
        "print(y_train)"
      ],
      "metadata": {
        "colab": {
          "base_uri": "https://localhost:8080/"
        },
        "id": "tQeSHR0NW6Ec",
        "outputId": "8d8760fb-1922-47d9-93f3-67513862277f"
      },
      "execution_count": 13,
      "outputs": [
        {
          "output_type": "stream",
          "name": "stdout",
          "text": [
            "[1 0 0 1 1 1 1 1 1 0 1 0 1 1 1 0]\n"
          ]
        }
      ]
    },
    {
      "cell_type": "markdown",
      "source": [
        "Langkah ini menstandarisasi kolom ketinggian (indeks 2) agar memiliki mean = 0 dan standar deviasi = 1, membantu model bekerja lebih stabil"
      ],
      "metadata": {
        "id": "YYX-zih_rONb"
      }
    },
    {
      "cell_type": "code",
      "source": [
        "from sklearn.preprocessing import StandardScaler\n",
        "\n",
        "sc = StandardScaler()\n",
        "\n",
        "# Scaling hanya pada kolom ketinggian (indeks 2)\n",
        "x_train[:, 2] = sc.fit_transform(x_train[:, 2].astype(float).reshape(-1, 1)).flatten()\n",
        "x_test[:, 2] = sc.transform(x_test[:, 2].astype(float).reshape(-1, 1)).flatten()\n"
      ],
      "metadata": {
        "id": "aL5kg4MyZ6vY"
      },
      "execution_count": 14,
      "outputs": []
    },
    {
      "cell_type": "code",
      "source": [
        "print(x_train)"
      ],
      "metadata": {
        "colab": {
          "base_uri": "https://localhost:8080/"
        },
        "id": "gvXyvxCzbFa-",
        "outputId": "9bd66d93-58c5-4e8f-8bcb-cb0c6d356a33"
      },
      "execution_count": 15,
      "outputs": [
        {
          "output_type": "stream",
          "name": "stdout",
          "text": [
            "[[0.0 0.0 -0.2581988897471611 0.0 0.0 0.0 0.0 0.0 0.0 0.0 0.0 0.0 0.0 1.0\n",
            "  0.0 0.0 0.0 0.0 0.0 'Nusa Tenggara Barat' 3726.0 'Stratovolcano']\n",
            " [0.0 0.0 -0.2581988897471611 0.0 0.0 0.0 0.0 0.0 0.0 0.0 0.0 1.0 0.0 0.0\n",
            "  0.0 0.0 0.0 0.0 0.0 'Jawa Barat' 3019.0 'Stratovolcano']\n",
            " [0.0 0.0 -0.2581988897471611 0.0 0.0 0.0 0.0 1.0 0.0 0.0 0.0 0.0 0.0 0.0\n",
            "  0.0 0.0 0.0 0.0 0.0 'Sulawesi Selatan' 3478.0 'Non-Vulkanik']\n",
            " [0.0 0.0 -0.2581988897471611 0.0 0.0 0.0 0.0 0.0 0.0 0.0 0.0 0.0 0.0 0.0\n",
            "  0.0 0.0 0.0 1.0 0.0 'Jawa Timur' 3156.0 'Stratovolcano']\n",
            " [0.0 0.0 -0.2581988897471611 0.0 0.0 0.0 0.0 0.0 0.0 1.0 0.0 0.0 0.0 0.0\n",
            "  0.0 0.0 0.0 0.0 0.0 'Jawa Tengah' 2930.0 'Stratovolcano']\n",
            " [0.0 0.0 -0.2581988897471611 0.0 0.0 0.0 0.0 0.0 0.0 0.0 0.0 0.0 0.0 0.0\n",
            "  1.0 0.0 0.0 0.0 0.0 'Jawa Timur' 3676.0 'Stratovolcano']\n",
            " [0.0 0.0 -0.2581988897471611 0.0 1.0 0.0 0.0 0.0 0.0 0.0 0.0 0.0 0.0 0.0\n",
            "  0.0 0.0 0.0 0.0 0.0 'Jawa Barat' 3078.0 'Stratovolcano']\n",
            " [0.0 0.0 -0.2581988897471611 0.0 0.0 0.0 1.0 0.0 0.0 0.0 0.0 0.0 0.0 0.0\n",
            "  0.0 0.0 0.0 0.0 0.0 'Jambi' 3805.0 'Stratovolcano']\n",
            " [1.0 0.0 -0.2581988897471611 0.0 0.0 0.0 0.0 0.0 0.0 0.0 0.0 0.0 0.0 0.0\n",
            "  0.0 0.0 0.0 0.0 0.0 'Bali' 3031.0 'Stratovolcano']\n",
            " [0.0 0.0 -0.2581988897471611 0.0 0.0 0.0 0.0 0.0 0.0 0.0 1.0 0.0 0.0 0.0\n",
            "  0.0 0.0 0.0 0.0 0.0 'Jawa Tengah' 3145.0 'Stratovolcano']\n",
            " [0.0 0.0 -0.2581988897471611 0.0 0.0 0.0 0.0 0.0 0.0 0.0 0.0 0.0 0.0 0.0\n",
            "  0.0 0.0 1.0 0.0 0.0 'Nusa Tenggara Barat' 2851.0 'Stratovolcano']\n",
            " [0.0 0.0 -0.2581988897471611 0.0 0.0 0.0 0.0 0.0 1.0 0.0 0.0 0.0 0.0 0.0\n",
            "  0.0 0.0 0.0 0.0 0.0 'Jawa Tengah' 3265.0 'Stratovolcano']\n",
            " [1.0 0.0 -0.2581988897471611 0.0 0.0 0.0 0.0 0.0 0.0 0.0 0.0 0.0 0.0 0.0\n",
            "  0.0 0.0 0.0 0.0 0.0 'Bali' 3031.0 'Stratovolcano']\n",
            " [0.0 0.0 -0.2581988897471611 0.0 0.0 1.0 0.0 0.0 0.0 0.0 0.0 0.0 0.0 0.0\n",
            "  0.0 0.0 0.0 0.0 0.0 'Jawa Tengah' 2958.0 'Stratovolcano']\n",
            " [0.0 0.0 -0.2581988897471611 0.0 0.0 0.0 0.0 0.0 0.0 0.0 0.0 0.0 1.0 0.0\n",
            "  0.0 0.0 0.0 0.0 0.0 'Jawa Timur' 3332.0 'Stratovolcano']\n",
            " [0.0 0.0 3.8729833462074166 0.0 0.0 0.0 0.0 0.0 0.0 0.0 0.0 0.0 0.0 0.0\n",
            "  0.0 0.0 0.0 0.0 0.0 'Maluku' 3027.0 'Non-Vulkanik']]\n"
          ]
        }
      ]
    }
  ]
}